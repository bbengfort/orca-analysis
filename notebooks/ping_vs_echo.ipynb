{
 "cells": [
  {
   "cell_type": "code",
   "execution_count": 1,
   "metadata": {
    "collapsed": true
   },
   "outputs": [],
   "source": [
    "%matplotlib inline"
   ]
  },
  {
   "cell_type": "markdown",
   "metadata": {},
   "source": [
    "# Comparing Ping (ICMP) vs. Echo (gRPC) Latencies \n",
    "\n",
    "This notebook parses the output of the ping protocol and the orca echo protocol and compares the distribution of latencies from each. "
   ]
  },
  {
   "cell_type": "code",
   "execution_count": 2,
   "metadata": {
    "collapsed": false
   },
   "outputs": [],
   "source": [
    "import os\n",
    "import re \n",
    "\n",
    "import numpy as np\n",
    "import pandas as pd \n",
    "import seaborn as sns \n",
    "import matplotlib.pyplot as plt \n",
    "\n",
    "from scipy import stats\n",
    "\n",
    "sns.set_context('notebook')\n",
    "sns.set_style('whitegrid')"
   ]
  },
  {
   "cell_type": "code",
   "execution_count": 3,
   "metadata": {
    "collapsed": true
   },
   "outputs": [],
   "source": [
    "# Paths to input files \n",
    "FIXTURES = os.path.normpath(os.path.join(os.getcwd(), \"..\", \"fixtures\")) \n",
    "PINGS = os.path.join(FIXTURES, \"ping.txt\")\n",
    "ECHOS = os.path.join(FIXTURES, \"echo.txt\")"
   ]
  },
  {
   "cell_type": "code",
   "execution_count": 4,
   "metadata": {
    "collapsed": false
   },
   "outputs": [],
   "source": [
    "# Parsing for the log files \n",
    "pingre = re.compile(r'(\\d+) bytes from ([\\w\\d\\.]+): icmp_seq=(\\d+) ttl=(\\d+) time=([\\d\\.]+) ms')\n",
    "echore = re.compile(r'([\\d\\/]+) ([\\d\\:]+) received (\\d+) bytes from (\\w+) \\(([\\w\\.\\:]+)\\) order=(\\d+) seq=(\\d+) time=([\\d\\.]+)ms')\n",
    "\n",
    "\n",
    "def parse(line, ping=False, echo=False):\n",
    "    if ping:\n",
    "        regex = pingre \n",
    "        idx = 4\n",
    "    elif echo:\n",
    "        regex = echore \n",
    "        idx = 7\n",
    "    else:\n",
    "        raise ValueError(\"Specify ping or echo line\")\n",
    "    \n",
    "    match = regex.match(line)\n",
    "    if match is not None:\n",
    "        latency = match.groups()[idx]\n",
    "        return float(latency)\n",
    "        \n",
    "    return None \n",
    "\n",
    "\n",
    "def load_data(pings=PINGS, echos=ECHOS):\n",
    "    \"\"\"\n",
    "    Load and parse the two datasets \n",
    "    \"\"\"\n",
    "    \n",
    "    for idx, path in enumerate((pings, echos)):\n",
    "        if path is None: continue \n",
    "        name, _ = os.path.splitext(os.path.basename(path))\n",
    "            \n",
    "        with open(path, 'r') as fobj:\n",
    "            for line in fobj:\n",
    "                latency = parse(line, ping=idx==0, echo=idx==1)\n",
    "                if latency is not None:\n",
    "                    yield name, latency \n",
    "\n",
    "\n",
    "# Remove outliers \n",
    "def remove_outliers(df, passes=1):\n",
    "    \"\"\"\n",
    "    Removes all data points that are less than 3 standard deviations from the mean. \n",
    "    Can run multiple passes to remove data at different granularities. \n",
    "    \"\"\"\n",
    "    total = len(df)\n",
    "    \n",
    "    for _ in range(passes):\n",
    "        df = df[(np.abs(stats.zscore(df['latency (ms)'])) < 3)]\n",
    "    \n",
    "    print(\"Removed {} rows from {} original\".format(total-len(df), total))\n",
    "    return df"
   ]
  },
  {
   "cell_type": "code",
   "execution_count": 5,
   "metadata": {
    "collapsed": false
   },
   "outputs": [
    {
     "data": {
      "text/html": [
       "<div>\n",
       "<table border=\"1\" class=\"dataframe\">\n",
       "  <thead>\n",
       "    <tr style=\"text-align: right;\">\n",
       "      <th></th>\n",
       "      <th>protocol</th>\n",
       "      <th>latency (ms)</th>\n",
       "    </tr>\n",
       "  </thead>\n",
       "  <tbody>\n",
       "    <tr>\n",
       "      <th>0</th>\n",
       "      <td>ping</td>\n",
       "      <td>13.215</td>\n",
       "    </tr>\n",
       "    <tr>\n",
       "      <th>1</th>\n",
       "      <td>ping</td>\n",
       "      <td>11.645</td>\n",
       "    </tr>\n",
       "    <tr>\n",
       "      <th>2</th>\n",
       "      <td>ping</td>\n",
       "      <td>14.277</td>\n",
       "    </tr>\n",
       "    <tr>\n",
       "      <th>3</th>\n",
       "      <td>ping</td>\n",
       "      <td>11.352</td>\n",
       "    </tr>\n",
       "    <tr>\n",
       "      <th>4</th>\n",
       "      <td>ping</td>\n",
       "      <td>13.751</td>\n",
       "    </tr>\n",
       "  </tbody>\n",
       "</table>\n",
       "</div>"
      ],
      "text/plain": [
       "  protocol  latency (ms)\n",
       "0     ping        13.215\n",
       "1     ping        11.645\n",
       "2     ping        14.277\n",
       "3     ping        11.352\n",
       "4     ping        13.751"
      ]
     },
     "execution_count": 5,
     "metadata": {},
     "output_type": "execute_result"
    }
   ],
   "source": [
    "# Load the dataset \n",
    "df = pd.DataFrame(load_data())\n",
    "df.columns = ['protocol', 'latency (ms)']\n",
    "df.head()"
   ]
  },
  {
   "cell_type": "code",
   "execution_count": 6,
   "metadata": {
    "collapsed": false
   },
   "outputs": [
    {
     "name": "stdout",
     "output_type": "stream",
     "text": [
      "Removed 85 rows from 7190 original\n"
     ]
    }
   ],
   "source": [
    "# Remove outliers \n",
    "tdf = remove_outliers(df, passes=2)"
   ]
  },
  {
   "cell_type": "code",
   "execution_count": 7,
   "metadata": {
    "collapsed": false
   },
   "outputs": [
    {
     "data": {
      "text/plain": [
       "<matplotlib.text.Text at 0x111f8dba8>"
      ]
     },
     "execution_count": 7,
     "metadata": {},
     "output_type": "execute_result"
    },
    {
     "data": {
      "image/png": "[encoded data removed]",
      "text/plain": [
       "<matplotlib.figure.Figure at 0x111e64cf8>"
      ]
     },
     "metadata": {},
     "output_type": "display_data"
    }
   ],
   "source": [
    "g = sns.violinplot(x='latency (ms)', y='protocol', data=tdf)\n",
    "g.set_title(\"Distribution of Latencies with Outliers Removed\")"
   ]
  },
  {
   "cell_type": "code",
   "execution_count": 8,
   "metadata": {
    "collapsed": false
   },
   "outputs": [
    {
     "data": {
      "text/plain": [
       "<matplotlib.text.Text at 0x1121ac208>"
      ]
     },
     "execution_count": 8,
     "metadata": {},
     "output_type": "execute_result"
    },
    {
     "data": {
      "image/png": "[encoded data removed]",
      "text/plain": [
       "<matplotlib.figure.Figure at 0x111f70710>"
      ]
     },
     "metadata": {},
     "output_type": "display_data"
    }
   ],
   "source": [
    "g = sns.boxplot(x='latency (ms)', y='protocol', data=tdf)\n",
    "g.set_title(\"Range of Latencies with Outliers Removed\")"
   ]
  },
  {
   "cell_type": "code",
   "execution_count": 9,
   "metadata": {
    "collapsed": false
   },
   "outputs": [
    {
     "name": "stderr",
     "output_type": "stream",
     "text": [
      "/usr/local/lib/python3.5/site-packages/ipykernel/__main__.py:1: UserWarning: Boolean Series key will be reindexed to match DataFrame index.\n",
      "  if __name__ == '__main__':\n"
     ]
    },
    {
     "data": {
      "text/html": [
       "<div>\n",
       "<table border=\"1\" class=\"dataframe\">\n",
       "  <thead>\n",
       "    <tr style=\"text-align: right;\">\n",
       "      <th></th>\n",
       "      <th>latency (ms)</th>\n",
       "    </tr>\n",
       "  </thead>\n",
       "  <tbody>\n",
       "    <tr>\n",
       "      <th>count</th>\n",
       "      <td>3567.000000</td>\n",
       "    </tr>\n",
       "    <tr>\n",
       "      <th>mean</th>\n",
       "      <td>13.037264</td>\n",
       "    </tr>\n",
       "    <tr>\n",
       "      <th>std</th>\n",
       "      <td>1.877744</td>\n",
       "    </tr>\n",
       "    <tr>\n",
       "      <th>min</th>\n",
       "      <td>10.616000</td>\n",
       "    </tr>\n",
       "    <tr>\n",
       "      <th>25%</th>\n",
       "      <td>12.169000</td>\n",
       "    </tr>\n",
       "    <tr>\n",
       "      <th>50%</th>\n",
       "      <td>12.747000</td>\n",
       "    </tr>\n",
       "    <tr>\n",
       "      <th>75%</th>\n",
       "      <td>13.422500</td>\n",
       "    </tr>\n",
       "    <tr>\n",
       "      <th>max</th>\n",
       "      <td>42.806000</td>\n",
       "    </tr>\n",
       "  </tbody>\n",
       "</table>\n",
       "</div>"
      ],
      "text/plain": [
       "       latency (ms)\n",
       "count   3567.000000\n",
       "mean      13.037264\n",
       "std        1.877744\n",
       "min       10.616000\n",
       "25%       12.169000\n",
       "50%       12.747000\n",
       "75%       13.422500\n",
       "max       42.806000"
      ]
     },
     "execution_count": 9,
     "metadata": {},
     "output_type": "execute_result"
    }
   ],
   "source": [
    "tdf[df.protocol == 'ping'].describe()"
   ]
  },
  {
   "cell_type": "code",
   "execution_count": 10,
   "metadata": {
    "collapsed": false
   },
   "outputs": [
    {
     "name": "stderr",
     "output_type": "stream",
     "text": [
      "/usr/local/lib/python3.5/site-packages/ipykernel/__main__.py:1: UserWarning: Boolean Series key will be reindexed to match DataFrame index.\n",
      "  if __name__ == '__main__':\n"
     ]
    },
    {
     "data": {
      "text/html": [
       "<div>\n",
       "<table border=\"1\" class=\"dataframe\">\n",
       "  <thead>\n",
       "    <tr style=\"text-align: right;\">\n",
       "      <th></th>\n",
       "      <th>latency (ms)</th>\n",
       "    </tr>\n",
       "  </thead>\n",
       "  <tbody>\n",
       "    <tr>\n",
       "      <th>count</th>\n",
       "      <td>3538.000000</td>\n",
       "    </tr>\n",
       "    <tr>\n",
       "      <th>mean</th>\n",
       "      <td>29.431315</td>\n",
       "    </tr>\n",
       "    <tr>\n",
       "      <th>std</th>\n",
       "      <td>2.908863</td>\n",
       "    </tr>\n",
       "    <tr>\n",
       "      <th>min</th>\n",
       "      <td>23.806328</td>\n",
       "    </tr>\n",
       "    <tr>\n",
       "      <th>25%</th>\n",
       "      <td>27.366130</td>\n",
       "    </tr>\n",
       "    <tr>\n",
       "      <th>50%</th>\n",
       "      <td>28.989888</td>\n",
       "    </tr>\n",
       "    <tr>\n",
       "      <th>75%</th>\n",
       "      <td>31.016401</td>\n",
       "    </tr>\n",
       "    <tr>\n",
       "      <th>max</th>\n",
       "      <td>49.039899</td>\n",
       "    </tr>\n",
       "  </tbody>\n",
       "</table>\n",
       "</div>"
      ],
      "text/plain": [
       "       latency (ms)\n",
       "count   3538.000000\n",
       "mean      29.431315\n",
       "std        2.908863\n",
       "min       23.806328\n",
       "25%       27.366130\n",
       "50%       28.989888\n",
       "75%       31.016401\n",
       "max       49.039899"
      ]
     },
     "execution_count": 10,
     "metadata": {},
     "output_type": "execute_result"
    }
   ],
   "source": [
    "tdf[df.protocol == 'echo'].describe()"
   ]
  }
 ],
 "metadata": {
  "kernelspec": {
   "display_name": "Python 3",
   "language": "python",
   "name": "python3"
  },
  "language_info": {
   "codemirror_mode": {
    "name": "ipython",
    "version": 3
   },
   "file_extension": ".py",
   "mimetype": "text/x-python",
   "name": "python",
   "nbconvert_exporter": "python",
   "pygments_lexer": "ipython3",
   "version": "3.5.1"
  }
 },
 "nbformat": 4,
 "nbformat_minor": 0
}
